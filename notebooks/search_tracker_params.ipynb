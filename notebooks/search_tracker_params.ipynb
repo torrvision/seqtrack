{
 "cells": [
  {
   "cell_type": "code",
   "execution_count": null,
   "metadata": {
    "collapsed": true
   },
   "outputs": [],
   "source": [
    "import argparse\n",
    "import hashlib\n",
    "import json\n",
    "import numpy as np\n",
    "import os\n",
    "import pprint\n",
    "import tensorflow as tf\n",
    "\n",
    "import data\n",
    "import evaluate\n",
    "import sample\n",
    "import train\n",
    "import model as model_pkg\n",
    "import model_graph\n",
    "import motion\n",
    "\n",
    "%matplotlib inline\n",
    "import matplotlib.pyplot as plt"
   ]
  },
  {
   "cell_type": "code",
   "execution_count": null,
   "metadata": {
    "collapsed": true
   },
   "outputs": [],
   "source": [
    "ntimesteps = 20\n",
    "frmsz = 241\n",
    "batchsz = None\n",
    "output_mode = 'rect_map'\n",
    "path_data_home = '/home/jvlmdr/projects/2017-01-mem-track/data/'\n",
    "path_ckpt = './ckpt/'\n",
    "# dataset = 'OTB-50'\n",
    "sample_frames_params = {'kind': 'full'}\n",
    "augment_motion_params = {'kind': 'none'}\n",
    "random_seed = 0\n",
    "model_base_params = {'object_centric': True, 'use_heatmap': False}"
   ]
  },
  {
   "cell_type": "code",
   "execution_count": null,
   "metadata": {
    "collapsed": true
   },
   "outputs": [],
   "source": [
    "dataset = data.OTB('OTB-50',\n",
    "    frmsz=241,\n",
    "    path_data=os.path.join(path_data_home, 'OTB'))"
   ]
  },
  {
   "cell_type": "code",
   "execution_count": null,
   "metadata": {
    "collapsed": true
   },
   "outputs": [],
   "source": [
    "def eval_model_params(model_params):\n",
    "    tf.reset_default_graph()\n",
    "    \n",
    "    model = model_pkg.SimpleSearch(\n",
    "        ntimesteps=ntimesteps,\n",
    "        frmsz=frmsz,\n",
    "        batchsz=None,\n",
    "        output_mode=output_mode,\n",
    "        stat={'mean': 0.5, 'std': 1.0},\n",
    "        weight_decay=1.0, # No effect at test time.\n",
    "        **model_params)\n",
    "    with tf.name_scope('input'):\n",
    "        example = model_graph.make_example_placeholders(\n",
    "            batchsz=None,\n",
    "            ntimesteps=ntimesteps,\n",
    "            frmsz=frmsz)\n",
    "        run_opts = model_graph.make_option_placeholders()\n",
    "    prediction_crop, window, prediction, init_state, final_state = model_graph.process_sequence(\n",
    "        model, example, run_opts,\n",
    "        batchsz=None, ntimesteps=ntimesteps, frmsz=frmsz)\n",
    "    restorer = tf.train.Saver()\n",
    "    \n",
    "    eval_model = evaluate.Model(\n",
    "        batch_size=None,\n",
    "        image_size=(frmsz, frmsz),\n",
    "        sequence_len=ntimesteps,\n",
    "        example=example,\n",
    "        run_opts=run_opts,\n",
    "        prediction_crop=prediction_crop,\n",
    "        window=window,\n",
    "        prediction=prediction,\n",
    "        init_state=init_state,\n",
    "        final_state=final_state)\n",
    "    sequences = sample.epoch(\n",
    "        dataset=dataset,\n",
    "        rand=np.random.RandomState(random_seed),\n",
    "        sample_frames=sample.make_frame_sampler(\n",
    "            dataset=dataset,\n",
    "            rand=np.random.RandomState(random_seed),\n",
    "            ntimesteps=ntimesteps,\n",
    "            **sample_frames_params),\n",
    "        augment_motion=motion.make_motion_augmenter(\n",
    "            rand=np.random.RandomState(random_seed),\n",
    "            **augment_motion_params),\n",
    "        max_videos=None,\n",
    "        max_objects=None)\n",
    "    \n",
    "    config = tf.ConfigProto()\n",
    "    config.gpu_options.allow_growth = True\n",
    "    with tf.Session(config=config) as sess:\n",
    "        # Load model from checkpoint.\n",
    "        model_file = tf.train.latest_checkpoint(path_ckpt)\n",
    "        if model_file is None:\n",
    "            raise ValueError('could not find checkpoint')\n",
    "        restorer.restore(sess, model_file)\n",
    "        \n",
    "        return evaluate.evaluate(sess, eval_model, sequences)"
   ]
  },
  {
   "cell_type": "code",
   "execution_count": null,
   "metadata": {
    "scrolled": true
   },
   "outputs": [],
   "source": [
    "profile_range = ['cosine', 'linear', 'step']\n",
    "weight_range  = [0.3, 1.0, 3.0, 5.0, 10.0, 30.0]\n",
    "radius_range  = [0.5, 1.0, 2.0]\n",
    "\n",
    "def make_model_params(profile, radius, weight):\n",
    "    return dict(model_base_params,\n",
    "                motion_penalty_profile=profile,\n",
    "                motion_penalty_radius=radius,\n",
    "                motion_penalty_weight=weight)\n",
    "\n",
    "model_params_list = [\n",
    "    make_model_params(profile, radius, weight)\n",
    "    for profile in profile_range\n",
    "    for weight  in weight_range\n",
    "    for radius  in radius_range\n",
    "]\n",
    "\n",
    "def hash_dict(s):\n",
    "    return hashlib.sha224(json.dumps(s, sort_keys=True)).hexdigest()[:7]\n",
    "\n",
    "# model_params_dict = {\n",
    "#     hash_dict(p): p for p in model_params_list\n",
    "# }\n",
    "\n",
    "from helpers import cache_json\n",
    "\n",
    "results = {}\n",
    "for p in model_params_list:\n",
    "    k = hash_dict(p)\n",
    "    print p\n",
    "    results[k] = cache_json('results_{}.json'.format(k),\n",
    "                            lambda: eval_model_params(p))\n",
    "    print results[k]['iou_mean']"
   ]
  },
  {
   "cell_type": "code",
   "execution_count": null,
   "metadata": {},
   "outputs": [],
   "source": [
    "max_iou_mean = 0.0\n",
    "maximizers = []\n",
    "\n",
    "for p in model_params_list:\n",
    "    k = hash_dict(p)\n",
    "    iou_mean = results[k]['iou_mean']\n",
    "    if iou_mean > max_iou_mean:\n",
    "        max_iou_mean = iou_mean\n",
    "        maximizers = [p]\n",
    "    elif iou_mean == max_iou_mean:\n",
    "        max_iou_mean = iou_mean\n",
    "        maximizers.append(p)\n",
    "\n",
    "print max_iou_mean\n",
    "pprint.pprint(maximizers)"
   ]
  },
  {
   "cell_type": "code",
   "execution_count": null,
   "metadata": {},
   "outputs": [],
   "source": [
    "for profile in profile_range:\n",
    "    for radius in radius_range:\n",
    "        ps = [make_model_params(profile, radius, weight) for weight in weight_range]\n",
    "        ks = [hash_dict(p) for p in ps]\n",
    "        iou_mean = [results[k]['iou_mean'] for k in ks]\n",
    "        plt.plot(weight_range, iou_mean)\n",
    "\n",
    "plt.xscale('log')\n",
    "plt.xlabel('weight')\n",
    "plt.ylabel('iou_mean')\n",
    "plt.grid()\n",
    "plt.show()"
   ]
  },
  {
   "cell_type": "code",
   "execution_count": null,
   "metadata": {},
   "outputs": [],
   "source": [
    "for profile in profile_range:\n",
    "    for weight in weight_range:\n",
    "        ps = [make_model_params(profile, radius, weight) for radius in radius_range]\n",
    "        ks = [hash_dict(p) for p in ps]\n",
    "        iou_mean = [results[k]['iou_mean'] for k in ks]\n",
    "        plt.plot(radius_range, iou_mean)\n",
    "\n",
    "plt.xscale('log')\n",
    "plt.xlabel('radius')\n",
    "plt.ylabel('iou_mean')\n",
    "plt.grid()\n",
    "plt.show()"
   ]
  }
 ],
 "metadata": {
  "kernelspec": {
   "display_name": "Python 2",
   "language": "python",
   "name": "python2"
  },
  "language_info": {
   "codemirror_mode": {
    "name": "ipython",
    "version": 2
   },
   "file_extension": ".py",
   "mimetype": "text/x-python",
   "name": "python",
   "nbconvert_exporter": "python",
   "pygments_lexer": "ipython2",
   "version": "2.7.6"
  }
 },
 "nbformat": 4,
 "nbformat_minor": 2
}
